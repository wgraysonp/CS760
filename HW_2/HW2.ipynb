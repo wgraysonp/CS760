{
 "cells": [
  {
   "cell_type": "code",
   "execution_count": 1,
   "id": "b1de9335",
   "metadata": {},
   "outputs": [],
   "source": [
    "import numpy as np\n",
    "import matplotlib.pyplot as plt\n",
    "import os"
   ]
  },
  {
   "cell_type": "markdown",
   "id": "0e2b8b11",
   "metadata": {},
   "source": [
    "## Problem 2.2"
   ]
  },
  {
   "cell_type": "code",
   "execution_count": 2,
   "id": "07cd2c33",
   "metadata": {},
   "outputs": [],
   "source": [
    "X = np.array([[-1, -1], [1, 1], [1, -1], [-1, 1]])\n",
    "Y = np.array([[1], [1], [0], [0]])"
   ]
  },
  {
   "cell_type": "code",
   "execution_count": 3,
   "id": "a32088a4",
   "metadata": {},
   "outputs": [
    {
     "data": {
      "image/png": "[encoded data removed]",
      "text/plain": [
       "<Figure size 300x300 with 1 Axes>"
      ]
     },
     "metadata": {},
     "output_type": "display_data"
    }
   ],
   "source": [
    "fig, ax = plt.subplots()\n",
    "fig.set_figwidth(3)\n",
    "fig.set_figheight(3)\n",
    "ax.scatter(X[:2, 0], X[:2, 1], color='r', label=1)\n",
    "ax.scatter(X[2:, 0], X[2:, 1], color='b', label=0)\n",
    "plt.legend()\n",
    "\n",
    "path = os.path.join(os.getcwd(), 'figs')\n",
    "os.makedirs(path, exist_ok=True)\n",
    "f_name = os.path.join(path, \"p1_2.jpg\")\n",
    "plt.savefig(f_name)"
   ]
  },
  {
   "cell_type": "markdown",
   "id": "5ff7ce22",
   "metadata": {},
   "source": [
    "## Problem 2.3"
   ]
  },
  {
   "cell_type": "code",
   "execution_count": 4,
   "id": "87739fca",
   "metadata": {},
   "outputs": [],
   "source": [
    "from src.decisiontree import DecisionTree"
   ]
  },
  {
   "cell_type": "code",
   "execution_count": 5,
   "id": "cd75b813",
   "metadata": {},
   "outputs": [],
   "source": [
    "X = []\n",
    "with open('data/Druns.txt', 'r') as f:\n",
    "    for line in f.readlines():\n",
    "        line = line.strip()\n",
    "        X.append([float(num) for num in line.split(\" \")])\n",
    "\n",
    "X = np.array(X)\n",
    "y = X[:, 2].reshape(-1, 1)\n",
    "X = X[:, :2]"
   ]
  },
  {
   "cell_type": "code",
   "execution_count": 6,
   "id": "df381972",
   "metadata": {},
   "outputs": [
    {
     "name": "stdout",
     "output_type": "stream",
     "text": [
      "split val: 0.1, split dim: 0\n",
      "gain: 0.100518\n",
      "split val: 0.0, split dim: 0\n",
      "Split entropy zero - mutual info: 0.000000\n",
      "split val: 0.0, split dim: 1\n",
      "gain: 0.055954\n",
      "split val: 1.0, split dim: 1\n",
      "gain: 0.005780\n",
      "split val: 2.0, split dim: 1\n",
      "gain: 0.001144\n",
      "split val: 3.0, split dim: 1\n",
      "gain: 0.016411\n",
      "split val: 4.0, split dim: 1\n",
      "gain: 0.049749\n",
      "split val: 5.0, split dim: 1\n",
      "gain: 0.111240\n",
      "split val: 6.0, split dim: 1\n",
      "gain: 0.236100\n",
      "split val: 7.0, split dim: 1\n",
      "gain: 0.055954\n",
      "split val: 8.0, split dim: 1\n",
      "gain: 0.430157\n",
      "split val: -1.0, split dim: 1\n",
      "gain: 0.100518\n",
      "split val: -2.0, split dim: 1\n",
      "Split entropy zero - mutual info: 0.000000\n"
     ]
    }
   ],
   "source": [
    "tree = DecisionTree(X, y)\n",
    "tree.fit(print_root_splits=True)"
   ]
  },
  {
   "cell_type": "code",
   "execution_count": null,
   "id": "4f0d595f",
   "metadata": {},
   "outputs": [],
   "source": []
  }
 ],
 "metadata": {
  "kernelspec": {
   "display_name": "Python 3 (ipykernel)",
   "language": "python",
   "name": "python3"
  },
  "language_info": {
   "codemirror_mode": {
    "name": "ipython",
    "version": 3
   },
   "file_extension": ".py",
   "mimetype": "text/x-python",
   "name": "python",
   "nbconvert_exporter": "python",
   "pygments_lexer": "ipython3",
   "version": "3.10.11"
  }
 },
 "nbformat": 4,
 "nbformat_minor": 5
}
